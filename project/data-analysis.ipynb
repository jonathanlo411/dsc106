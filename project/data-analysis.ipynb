{
 "cells": [
  {
   "cell_type": "markdown",
   "id": "946f2442",
   "metadata": {},
   "source": [
    "# Data Analysis\n",
    "Purpose is to ping MAL's APIs to gather anime data. The data will then be saved into a `.csv` to be used for the DSC106 - Final Project Website.<br>\n",
    "By: Jonathan Lo<br>\n",
    "Date: 5/2/23"
   ]
  },
  {
   "cell_type": "markdown",
   "id": "68dc9cdb",
   "metadata": {},
   "source": [
    "## Imports and Setup"
   ]
  },
  {
   "cell_type": "code",
   "execution_count": null,
   "id": "e6b3f3d7",
   "metadata": {},
   "outputs": [],
   "source": [
    "# Imports\n",
    "import requests as r\n",
    "import json\n",
    "\n",
    "from time import sleep\n",
    "from tqdm import tqdm\n",
    "from datetime import timedelta"
   ]
  },
  {
   "cell_type": "code",
   "execution_count": null,
   "id": "8155a3e8",
   "metadata": {},
   "outputs": [],
   "source": [
    "# Unload Secrets\n",
    "with open(\"secrets.json\", 'r') as fh:\n",
    "    secrets = json.load(fh)\n",
    "    \n",
    "mal_client_id = secrets['MAL-CID']"
   ]
  },
  {
   "cell_type": "markdown",
   "id": "20671d4b",
   "metadata": {},
   "source": [
    "## Requests"
   ]
  },
  {
   "cell_type": "code",
   "execution_count": null,
   "id": "c865b9be",
   "metadata": {},
   "outputs": [],
   "source": [
    "endpoint = \"https://api.myanimelist.net/v2/anime/\"\n",
    "headers = {\"X-MAL-CLIENT-ID\": mal_client_id}\n",
    "fields = [\n",
    "    \"start_date\",\n",
    "    \"end_date\",\n",
    "    \"mean\",\n",
    "    \"rank\",\n",
    "    \"popularity\",\n",
    "    \"num_list_users\",\n",
    "    \"num_scoring_users\",\n",
    "    \"media_type\",\n",
    "    \"status\",\n",
    "    \"genres\",\n",
    "    \"start_season\",\n",
    "    \"source\",\n",
    "    \"rating\",\n",
    "    \"recommendations\",\n",
    "    \"studios\"\n",
    "]\n",
    "payload = {\"fields\": str(fields).replace(\"'\", \"\").replace('[', '').replace(']', '').replace(' ', '')}\n",
    "\n",
    "def queryMALRange(top_range, timeout=0.75):\n",
    "    \"\"\" Queries MyAnimeList's database for a certain range.\n",
    "    \"\"\"\n",
    "    # Metadata\n",
    "    print(f\"The expected time to pull all data is: {timedelta(seconds=top_range * 0.875)}\")\n",
    "    \n",
    "    # Init\n",
    "    error_timeout = 20\n",
    "    myanmielistData = []\n",
    "    requery_ids = []\n",
    "    session = r.Session()\n",
    "    \n",
    "    # First Loop\n",
    "    for i in tqdm(range(1, top_range)):\n",
    "        res = r.get(\n",
    "            endpoint + str(i),\n",
    "            params=payload,\n",
    "            headers=headers\n",
    "        )\n",
    "        if res.status_code == 200:\n",
    "            myanmielistData.append(res.json())\n",
    "        elif res.status_code == 404:\n",
    "            continue\n",
    "        else:\n",
    "            requery_ids.append(i)\n",
    "            sleep(error_timeout)\n",
    "        sleep(timeout)\n",
    "        \n",
    "    # Requery if any traffic errors\n",
    "    for i in tqdm(requery_ids):\n",
    "        res = r.get(\n",
    "            endpoint + str(i),\n",
    "            params=payload,\n",
    "            headers=headers\n",
    "        )\n",
    "        if res.status_code == 200:\n",
    "            myanmielistData.append(res.json())\n",
    "        sleep(timeout)\n",
    "        \n",
    "    return myanmielistData"
   ]
  },
  {
   "cell_type": "code",
   "execution_count": null,
   "id": "aaf1b94c",
   "metadata": {},
   "outputs": [],
   "source": [
    "# Mass request\n",
    "data = queryMALRange(50000)"
   ]
  }
 ],
 "metadata": {
  "kernelspec": {
   "display_name": "Python 3 (ipykernel)",
   "language": "python",
   "name": "python3"
  },
  "language_info": {
   "codemirror_mode": {
    "name": "ipython",
    "version": 3
   },
   "file_extension": ".py",
   "mimetype": "text/x-python",
   "name": "python",
   "nbconvert_exporter": "python",
   "pygments_lexer": "ipython3",
   "version": "3.10.9"
  }
 },
 "nbformat": 4,
 "nbformat_minor": 5
}
