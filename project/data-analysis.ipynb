{
 "cells": [
  {
   "cell_type": "markdown",
   "id": "946f2442",
   "metadata": {},
   "source": [
    "# Data Analysis\n",
    "Purpose is to ping MAL's APIs to gather anime data. The data will then be saved into a `.csv` to be used for the DSC106 - Final Project Website.<br>\n",
    "By: Jonathan Lo<br>\n",
    "Date: 5/2/23"
   ]
  },
  {
   "cell_type": "markdown",
   "id": "68dc9cdb",
   "metadata": {},
   "source": [
    "## Imports and Setup"
   ]
  },
  {
   "cell_type": "code",
   "execution_count": 24,
   "id": "e6b3f3d7",
   "metadata": {},
   "outputs": [],
   "source": [
    "# Imports\n",
    "import requests as r\n",
    "import json"
   ]
  },
  {
   "cell_type": "code",
   "execution_count": 33,
   "id": "8155a3e8",
   "metadata": {},
   "outputs": [],
   "source": [
    "# Unload Secrets\n",
    "with open(\"secrets.json\", 'r') as fh:\n",
    "    secrets = json.load(fh)\n",
    "    \n",
    "mal_client_id = secrets['MAL-CID']"
   ]
  },
  {
   "cell_type": "markdown",
   "id": "20671d4b",
   "metadata": {},
   "source": [
    "## Requests"
   ]
  },
  {
   "cell_type": "code",
   "execution_count": 54,
   "id": "c865b9be",
   "metadata": {},
   "outputs": [
    {
     "data": {
      "text/plain": [
       "<Response [200]>"
      ]
     },
     "execution_count": 54,
     "metadata": {},
     "output_type": "execute_result"
    }
   ],
   "source": [
    "url = \"https://api.myanimelist.net/v2/anime/1\"\n",
    "headers = {\"X-MAL-CLIENT-ID\": mal_client_id}\n",
    "fields = [\n",
    "    \"start_date\",\n",
    "    \"end_date\",\n",
    "    \"mean\",\n",
    "    \"rank\",\n",
    "    \"popularity\",\n",
    "    \"num_list_users\",\n",
    "    \"num_scoring_users\",\n",
    "    \"media_type\",\n",
    "    \"status\",\n",
    "    \"genres\",\n",
    "    \"start_season\",\n",
    "    \"source\",\n",
    "    \"rating\",\n",
    "    \"recommendations\",\n",
    "    \"studios\"\n",
    "]\n",
    "payload = {\"fields\": str(fields).replace(\"'\", \"\").replace('[', '').replace(']', '').replace(' ', '')}\n",
    "\n",
    "res = r.get(\n",
    "    url,\n",
    "    params=payload,\n",
    "    headers=headers\n",
    ")\n",
    "res"
   ]
  },
  {
   "cell_type": "code",
   "execution_count": 55,
   "id": "061b4c35",
   "metadata": {},
   "outputs": [
    {
     "data": {
      "text/plain": [
       "{'id': 1,\n",
       " 'title': 'Cowboy Bebop',\n",
       " 'main_picture': {'medium': 'https://api-cdn.myanimelist.net/images/anime/4/19644.jpg',\n",
       "  'large': 'https://api-cdn.myanimelist.net/images/anime/4/19644l.jpg'},\n",
       " 'start_date': '1998-04-03',\n",
       " 'end_date': '1999-04-24',\n",
       " 'mean': 8.75,\n",
       " 'rank': 40,\n",
       " 'popularity': 43,\n",
       " 'num_list_users': 1756845,\n",
       " 'num_scoring_users': 906219,\n",
       " 'media_type': 'tv',\n",
       " 'status': 'finished_airing',\n",
       " 'genres': [{'id': 1, 'name': 'Action'},\n",
       "  {'id': 50, 'name': 'Adult Cast'},\n",
       "  {'id': 46, 'name': 'Award Winning'},\n",
       "  {'id': 24, 'name': 'Sci-Fi'},\n",
       "  {'id': 29, 'name': 'Space'}],\n",
       " 'start_season': {'year': 1998, 'season': 'spring'},\n",
       " 'source': 'original',\n",
       " 'rating': 'r',\n",
       " 'recommendations': [{'node': {'id': 205,\n",
       "    'title': 'Samurai Champloo',\n",
       "    'main_picture': {'medium': 'https://api-cdn.myanimelist.net/images/anime/1375/121599.jpg',\n",
       "     'large': 'https://api-cdn.myanimelist.net/images/anime/1375/121599l.jpg'}},\n",
       "   'num_recommendations': 119},\n",
       "  {'node': {'id': 6,\n",
       "    'title': 'Trigun',\n",
       "    'main_picture': {'medium': 'https://api-cdn.myanimelist.net/images/anime/7/20310.jpg',\n",
       "     'large': 'https://api-cdn.myanimelist.net/images/anime/7/20310l.jpg'}},\n",
       "   'num_recommendations': 84},\n",
       "  {'node': {'id': 889,\n",
       "    'title': 'Black Lagoon',\n",
       "    'main_picture': {'medium': 'https://api-cdn.myanimelist.net/images/anime/1906/121592.jpg',\n",
       "     'large': 'https://api-cdn.myanimelist.net/images/anime/1906/121592l.jpg'}},\n",
       "   'num_recommendations': 69},\n",
       "  {'node': {'id': 400,\n",
       "    'title': 'Seihou Bukyou Outlaw Star',\n",
       "    'main_picture': {'medium': 'https://api-cdn.myanimelist.net/images/anime/7/28848.jpg',\n",
       "     'large': 'https://api-cdn.myanimelist.net/images/anime/7/28848l.jpg'}},\n",
       "   'num_recommendations': 48},\n",
       "  {'node': {'id': 20057,\n",
       "    'title': 'Space☆Dandy',\n",
       "    'main_picture': {'medium': 'https://api-cdn.myanimelist.net/images/anime/4/56611.jpg',\n",
       "     'large': 'https://api-cdn.myanimelist.net/images/anime/4/56611l.jpg'}},\n",
       "   'num_recommendations': 36},\n",
       "  {'node': {'id': 2251,\n",
       "    'title': 'Baccano!',\n",
       "    'main_picture': {'medium': 'https://api-cdn.myanimelist.net/images/anime/3/14547.jpg',\n",
       "     'large': 'https://api-cdn.myanimelist.net/images/anime/3/14547l.jpg'}},\n",
       "   'num_recommendations': 28},\n",
       "  {'node': {'id': 4087,\n",
       "    'title': 'Michiko to Hatchin',\n",
       "    'main_picture': {'medium': 'https://api-cdn.myanimelist.net/images/anime/10/59535.jpg',\n",
       "     'large': 'https://api-cdn.myanimelist.net/images/anime/10/59535l.jpg'}},\n",
       "   'num_recommendations': 18},\n",
       "  {'node': {'id': 2025,\n",
       "    'title': 'Darker than Black: Kuro no Keiyakusha',\n",
       "    'main_picture': {'medium': 'https://api-cdn.myanimelist.net/images/anime/5/19570.jpg',\n",
       "     'large': 'https://api-cdn.myanimelist.net/images/anime/5/19570l.jpg'}},\n",
       "   'num_recommendations': 16},\n",
       "  {'node': {'id': 918,\n",
       "    'title': 'Gintama',\n",
       "    'main_picture': {'medium': 'https://api-cdn.myanimelist.net/images/anime/10/73274.jpg',\n",
       "     'large': 'https://api-cdn.myanimelist.net/images/anime/10/73274l.jpg'}},\n",
       "   'num_recommendations': 13},\n",
       "  {'node': {'id': 13601,\n",
       "    'title': 'Psycho-Pass',\n",
       "    'main_picture': {'medium': 'https://api-cdn.myanimelist.net/images/anime/5/43399.jpg',\n",
       "     'large': 'https://api-cdn.myanimelist.net/images/anime/5/43399l.jpg'}},\n",
       "   'num_recommendations': 12}],\n",
       " 'studios': [{'id': 14, 'name': 'Sunrise'}]}"
      ]
     },
     "execution_count": 55,
     "metadata": {},
     "output_type": "execute_result"
    }
   ],
   "source": [
    "res.json()"
   ]
  }
 ],
 "metadata": {
  "kernelspec": {
   "display_name": "Python 3 (ipykernel)",
   "language": "python",
   "name": "python3"
  },
  "language_info": {
   "codemirror_mode": {
    "name": "ipython",
    "version": 3
   },
   "file_extension": ".py",
   "mimetype": "text/x-python",
   "name": "python",
   "nbconvert_exporter": "python",
   "pygments_lexer": "ipython3",
   "version": "3.10.9"
  }
 },
 "nbformat": 4,
 "nbformat_minor": 5
}
